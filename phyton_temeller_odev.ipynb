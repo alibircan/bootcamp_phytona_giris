{
 "cells": [
  {
   "cell_type": "code",
   "execution_count": 1,
   "metadata": {},
   "outputs": [
    {
     "name": "stdout",
     "output_type": "stream",
     "text": [
      "Hafta başında 1000 dolarlık bitcoin aldığımızda günde ortalama %12 kazançla, bir hafta sonunda 1210.68 dolar kazanırdık\n"
     ]
    }
   ],
   "source": [
    "aciklamaMetni=\"Hafta başında {} dolarlık bitcoin aldığımızda günde ortalama %{} kazançla, bir hafta sonunda {:.2f} dolar kazanırdık\"\n",
    "anaPara=1000\n",
    "gunlukKazanc=12\n",
    "toplamaKazanc=anaPara*(1+12/100)**7-anaPara\n",
    "print(aciklamaMetni.format(anaPara,gunlukKazanc,toplamaKazanc))"
   ]
  },
  {
   "cell_type": "code",
   "execution_count": 3,
   "metadata": {},
   "outputs": [
    {
     "name": "stdout",
     "output_type": "stream",
     "text": [
      "Dosya Adı Giriniz : deneme\n",
      "deneme.py\n"
     ]
    }
   ],
   "source": [
    "dosyaAdi = input('Dosya Adı Giriniz : ')\n",
    "print (\"{}.py\".format(dosyaAdi))"
   ]
  },
  {
   "cell_type": "code",
   "execution_count": null,
   "metadata": {},
   "outputs": [],
   "source": []
  }
 ],
 "metadata": {
  "kernelspec": {
   "display_name": "Python 3",
   "language": "python",
   "name": "python3"
  },
  "language_info": {
   "codemirror_mode": {
    "name": "ipython",
    "version": 3
   },
   "file_extension": ".py",
   "mimetype": "text/x-python",
   "name": "python",
   "nbconvert_exporter": "python",
   "pygments_lexer": "ipython3",
   "version": "3.7.1"
  }
 },
 "nbformat": 4,
 "nbformat_minor": 2
}
