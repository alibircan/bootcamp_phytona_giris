{
 "cells": [
  {
   "cell_type": "code",
   "execution_count": 1,
   "metadata": {},
   "outputs": [
    {
     "name": "stdout",
     "output_type": "stream",
     "text": [
      "Gunler: {'1': 'Pazartesi', '2': 'Salı', '3': 'Çarşamba', '4': 'Perşembe', '5': 'Cuma', '6': 'Cumartesi', '7': 'Pazar'}\n",
      "Silinecek iki günü (12 gibi) giriniz : 25\n",
      "Kalan Gunler: {'1': 'Pazartesi', '3': 'Çarşamba', '4': 'Perşembe', '6': 'Cumartesi', '7': 'Pazar'}\n"
     ]
    }
   ],
   "source": [
    "gunler = {\n",
    "    '1':'Pazartesi',\n",
    "    '2':'Salı',\n",
    "    '3':'Çarşamba',\n",
    "    '4':'Perşembe',\n",
    "    '5':'Cuma',\n",
    "    '6':'Cumartesi',\n",
    "    '7':'Pazar',    \n",
    "}\n",
    "print(\"Gunler:\",gunler)\n",
    "silGunler = input('Silinecek iki günü (12 gibi) giriniz : ')\n",
    "strG=str(silGunler)\n",
    "strGList=list((strG))\n",
    "del gunler[strGList[0]]\n",
    "del gunler[strGList[1]]\n",
    "print(\"Kalan Gunler:\",gunler)"
   ]
  },
  {
   "cell_type": "code",
   "execution_count": 2,
   "metadata": {},
   "outputs": [
    {
     "name": "stdout",
     "output_type": "stream",
     "text": [
      "[{'ay': 'Ocak', 'gun': 31}, {'ay': 'Şubat', 'gun': 28}, {'ay': 'Mart', 'gun': 31}, {'ay': 'Nisan', 'gun': 30}, {'ay': 'Mayıs', 'gun': 31}, {'ay': 'Haziran', 'gun': 30}, {'ay': 'Temmuz', 'gun': 31}, {'ay': 'Ağustos', 'gun': 30}, {'ay': 'Eylül', 'gun': 31}, {'ay': 'Ekim', 'gun': 31}, {'ay': 'Kasım', 'gun': 30}, {'ay': 'Aralık', 'gun': 31}]\n"
     ]
    }
   ],
   "source": [
    "AyGunList=[\n",
    "    { \"ay\": \"Ocak\" , \"gun\":31}, { \"ay\": \"Şubat\" , \"gun\":28}, { \"ay\": \"Mart\" , \"gun\":31}, { \"ay\": \"Nisan\" , \"gun\":30}, \n",
    "    { \"ay\": \"Mayıs\" , \"gun\":31}, { \"ay\": \"Haziran\" , \"gun\":30}, { \"ay\": \"Temmuz\" , \"gun\":31}, {\"ay\": \"Ağustos\" , \"gun\":30}, \n",
    "    { \"ay\": \"Eylül\" , \"gun\":31}, { \"ay\": \"Ekim\" , \"gun\":31}, { \"ay\": \"Kasım\" , \"gun\":30}, { \"ay\": \"Aralık\" , \"gun\":31}]\n",
    "print(AyGunList)"
   ]
  },
  {
   "cell_type": "code",
   "execution_count": 3,
   "metadata": {},
   "outputs": [
    {
     "name": "stdout",
     "output_type": "stream",
     "text": [
      "[['Ocak', 'Şubat', 'Mart', 'Nisan', 'Mayıs', 'Haziran', 'Temmuz', 'Ağustos', 'Eylül', 'Ekim', 'Kasım', 'Aralık'], [31, 28, 31, 30, 31, 30, 31, 30, 31, 31, 30, 31]]\n"
     ]
    }
   ],
   "source": [
    "AyList=[dat['ay'] for dat in AyGunList]\n",
    "GunList=[dat['gun'] for dat in AyGunList]\n",
    "YeniAyGunList=[AyList,GunList]\n",
    "print(YeniAyGunList)"
   ]
  },
  {
   "cell_type": "code",
   "execution_count": 4,
   "metadata": {},
   "outputs": [],
   "source": [
    "ilkbahar = ['Mart', 'Nisan', 'Mayıs']\n",
    "yaz = ['Haziran', 'Temmuz','Ağustos']\n",
    "sonbahar = ['Eylül', 'Ekim', 'Kasım']\n",
    "kış = ['Aralık', 'Ocak', 'Şubat']"
   ]
  },
  {
   "cell_type": "code",
   "execution_count": 5,
   "metadata": {},
   "outputs": [
    {
     "name": "stdout",
     "output_type": "stream",
     "text": [
      "91\n"
     ]
    }
   ],
   "source": [
    "print(    YeniAyGunList[1][( YeniAyGunList[0].index(yaz[0]) )]  \n",
    "     + YeniAyGunList[1][( YeniAyGunList[0].index(yaz[1]) )]\n",
    "     + YeniAyGunList[1][( YeniAyGunList[0].index(yaz[2]) )]\n",
    "     )"
   ]
  },
  {
   "cell_type": "code",
   "execution_count": null,
   "metadata": {},
   "outputs": [],
   "source": []
  }
 ],
 "metadata": {
  "kernelspec": {
   "display_name": "Python 3",
   "language": "python",
   "name": "python3"
  },
  "language_info": {
   "codemirror_mode": {
    "name": "ipython",
    "version": 3
   },
   "file_extension": ".py",
   "mimetype": "text/x-python",
   "name": "python",
   "nbconvert_exporter": "python",
   "pygments_lexer": "ipython3",
   "version": "3.7.1"
  }
 },
 "nbformat": 4,
 "nbformat_minor": 2
}
