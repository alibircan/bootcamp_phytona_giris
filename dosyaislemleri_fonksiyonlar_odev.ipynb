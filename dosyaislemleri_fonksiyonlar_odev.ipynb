{
 "cells": [
  {
   "cell_type": "code",
   "execution_count": 1,
   "metadata": {},
   "outputs": [
    {
     "name": "stdout",
     "output_type": "stream",
     "text": [
      "Şiirdeki dize sayısı : 12\n"
     ]
    }
   ],
   "source": [
    "with open(\"davet.txt\", \"r\") as f:\n",
    "    dizeler = f.readlines()\n",
    "    \n",
    "print(\"Şiirdeki dize sayısı : {}\".format(len(dizeler)))\n",
    "\n",
    "\n",
    "f = open(\"ilk_kelimeler.txt\", 'w')\n",
    "\n",
    "for dize in dizeler:\n",
    "    thisline = dize.split(\" \");\n",
    "    f.write(thisline[0])\n",
    "    f.write('\\n')\n",
    "f.close()"
   ]
  },
  {
   "cell_type": "code",
   "execution_count": 2,
   "metadata": {},
   "outputs": [
    {
     "name": "stdout",
     "output_type": "stream",
     "text": [
      "Bir sayı giriniz29\n",
      "Sayı asaldır\n"
     ]
    }
   ],
   "source": [
    "def asal_kontrol(sayi):\n",
    "    \n",
    "    for x in range(2,sayi//2+1):\n",
    "        if (sayi%x)==0:\n",
    "            print(\"Sayı asal değildir.\")\n",
    "            return\n",
    "    print(\"Sayı asaldır\")    \n",
    "    return\n",
    "\n",
    "\n",
    "sayiR=int(input(\"Bir sayı giriniz\"))\n",
    "asal_kontrol(sayiR)"
   ]
  },
  {
   "cell_type": "code",
   "execution_count": 3,
   "metadata": {},
   "outputs": [
    {
     "name": "stdout",
     "output_type": "stream",
     "text": [
      "[1, 2, 3, 4, 5]\n"
     ]
    },
    {
     "data": {
      "text/plain": [
       "[1, 2, 3, 4, 5]"
      ]
     },
     "execution_count": 3,
     "metadata": {},
     "output_type": "execute_result"
    }
   ],
   "source": [
    "def uniq_liste(liste):\n",
    "    \n",
    "    newList=[]\n",
    "    for x in liste:\n",
    "        if x not in newList:\n",
    "            newList.append(x)\n",
    "            \n",
    "    print(newList)\n",
    "    return newList\n",
    "\n",
    "uniq_liste([1,2,2,3,3,4,4,5,3]) "
   ]
  },
  {
   "cell_type": "code",
   "execution_count": 4,
   "metadata": {},
   "outputs": [
    {
     "name": "stdout",
     "output_type": "stream",
     "text": [
      "Yaşınız : 36\n"
     ]
    }
   ],
   "source": [
    "from datetime import date\n",
    "\n",
    "borndate=date(1982, 12, 9)\n",
    "today = date.today()\n",
    "yas=today.year - borndate.year - ((today.month, today.day) < (borndate.month, borndate.day))\n",
    "print(\"Yaşınız : {}\".format(yas))"
   ]
  },
  {
   "cell_type": "code",
   "execution_count": null,
   "metadata": {},
   "outputs": [],
   "source": []
  }
 ],
 "metadata": {
  "kernelspec": {
   "display_name": "Python 3",
   "language": "python",
   "name": "python3"
  },
  "language_info": {
   "codemirror_mode": {
    "name": "ipython",
    "version": 3
   },
   "file_extension": ".py",
   "mimetype": "text/x-python",
   "name": "python",
   "nbconvert_exporter": "python",
   "pygments_lexer": "ipython3",
   "version": "3.7.1"
  }
 },
 "nbformat": 4,
 "nbformat_minor": 2
}
