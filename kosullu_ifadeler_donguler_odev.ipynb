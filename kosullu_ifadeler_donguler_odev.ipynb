{
 "cells": [
  {
   "cell_type": "code",
   "execution_count": 1,
   "metadata": {},
   "outputs": [
    {
     "name": "stdout",
     "output_type": "stream",
     "text": [
      "Bir sayı giriniz: 40C\n",
      "40C---->104.0F\n"
     ]
    }
   ],
   "source": [
    "sicaklik = input(\"Bir sayı giriniz: \")\n",
    "sicaklikparse=\"\"\n",
    "for ch in sicaklik:\n",
    "    if ch=='C':\n",
    "        sicalikF=float(sicaklikparse)*9/5+32\n",
    "        print(sicaklik + \"---->{:.1f}F\".format(sicalikF))\n",
    "    elif ch=='F':\n",
    "        sicalikC=5/9*(float(sicaklikparse)-32)\n",
    "        print(sicaklik + \"---->{:.1f}C\".format(sicalikC))\n",
    "    else:\n",
    "        sicaklikparse+=ch"
   ]
  },
  {
   "cell_type": "code",
   "execution_count": 2,
   "metadata": {},
   "outputs": [
    {
     "name": "stdout",
     "output_type": "stream",
     "text": [
      "Bir sayı giriniz: 52F\n",
      "52F---->11.1C\n"
     ]
    }
   ],
   "source": [
    "sicaklik = input(\"Bir sayı giriniz: \")\n",
    "sicaklikparse=\"\"\n",
    "for ch in sicaklik:\n",
    "    if ch=='C':\n",
    "        sicalikF=float(sicaklikparse)*9/5+32\n",
    "        print(sicaklik + \"---->{:.1f}F\".format(sicalikF))\n",
    "    elif ch=='F':\n",
    "        sicalikC=5/9*(float(sicaklikparse)-32)\n",
    "        print(sicaklik + \"---->{:.1f}C\".format(sicalikC))\n",
    "    else:\n",
    "        sicaklikparse+=ch"
   ]
  },
  {
   "cell_type": "code",
   "execution_count": 3,
   "metadata": {},
   "outputs": [
    {
     "name": "stdout",
     "output_type": "stream",
     "text": [
      "Bir kelime giriniz: otobüs\n",
      "otobüs ----> süboto\n"
     ]
    }
   ],
   "source": [
    "kelime = input(\"Bir kelime giriniz: \")\n",
    "kelimeLen=len(kelime)\n",
    "terskelime=\"\"\n",
    "while kelimeLen>0:\n",
    "    terskelime+=kelime[kelimeLen-1]\n",
    "    kelimeLen=kelimeLen-1\n",
    "print(kelime+\" ----> \"+terskelime)"
   ]
  },
  {
   "cell_type": "code",
   "execution_count": 4,
   "metadata": {},
   "outputs": [
    {
     "name": "stdout",
     "output_type": "stream",
     "text": [
      "[1, 1, 2, 3, 5, 8, 13, 21, 34]\n"
     ]
    }
   ],
   "source": [
    "Fibonacci = [1,1]\n",
    "i=1\n",
    "while True:\n",
    "    yenisayi=Fibonacci[i]+Fibonacci[i-1]\n",
    "    i=i+1\n",
    "    if yenisayi<50:\n",
    "        Fibonacci.append(yenisayi)\n",
    "    else:\n",
    "        break\n",
    "print(Fibonacci)"
   ]
  },
  {
   "cell_type": "code",
   "execution_count": 5,
   "metadata": {},
   "outputs": [
    {
     "name": "stdout",
     "output_type": "stream",
     "text": [
      "Bir sayı giriniz: 6\n",
      "6 x 1 = 6\n",
      "6 x 2 = 12\n",
      "6 x 3 = 18\n",
      "6 x 4 = 24\n",
      "6 x 5 = 30\n",
      "6 x 6 = 36\n",
      "6 x 7 = 42\n",
      "6 x 8 = 48\n",
      "6 x 9 = 54\n",
      "6 x 10 = 60\n"
     ]
    }
   ],
   "source": [
    "carpilan = int(input(\"Bir sayı giriniz: \"))\n",
    "for carpan in range(1,11):\n",
    "    print(\"{} x {} = {}\".format(carpilan,carpan,carpilan*carpan))"
   ]
  },
  {
   "cell_type": "code",
   "execution_count": 6,
   "metadata": {},
   "outputs": [
    {
     "name": "stdout",
     "output_type": "stream",
     "text": [
      "[1, 8, 9, 64, 25, 216, 49, 512, 81, 1000, 121, 1728, 169, 2744, 225, 4096, 289, 5832, 361, 8000]\n"
     ]
    }
   ],
   "source": [
    "yeni_liste = [x**3 if x % 2 == 0 else x**2 for x in range(1,21)]\n",
    "\n",
    "print(yeni_liste)"
   ]
  },
  {
   "cell_type": "code",
   "execution_count": null,
   "metadata": {},
   "outputs": [],
   "source": []
  }
 ],
 "metadata": {
  "kernelspec": {
   "display_name": "Python 3",
   "language": "python",
   "name": "python3"
  },
  "language_info": {
   "codemirror_mode": {
    "name": "ipython",
    "version": 3
   },
   "file_extension": ".py",
   "mimetype": "text/x-python",
   "name": "python",
   "nbconvert_exporter": "python",
   "pygments_lexer": "ipython3",
   "version": "3.7.1"
  }
 },
 "nbformat": 4,
 "nbformat_minor": 2
}
